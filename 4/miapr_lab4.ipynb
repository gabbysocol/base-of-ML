{
 "cells": [
  {
   "cell_type": "code",
   "execution_count": 3,
   "metadata": {},
   "outputs": [],
   "source": [
    "import warnings\n",
    "warnings.filterwarnings(action=\"ignore\", message=\"^internal gelsd\")"
   ]
  },
  {
   "cell_type": "code",
   "execution_count": 26,
   "metadata": {},
   "outputs": [],
   "source": [
    "import numpy as np\n",
    "import pandas as pn\n",
    "import random\n",
    "import matplotlib.pyplot as plt"
   ]
  },
  {
   "cell_type": "code",
   "execution_count": 4,
   "metadata": {},
   "outputs": [],
   "source": [
    "def train(X, y, syn0, lens0, lens01, lr):\n",
    "    errorreturn = 0\n",
    "    for i in range(0, lens0):\n",
    "        a = 0\n",
    "        for j in range(0, lens01):\n",
    "            a = a + syn0[i][j] * X[j]\n",
    "        b = 1 / (1 + 2.718281828459045235360287471352662497757 ** -a)\n",
    "        error = y[i] - b\n",
    "        errorreturn = errorreturn + abs(error)\n",
    "        delta = (error) * 1 / (1 + 2.718281828459045235360287471352662497757 ** -b) * lr\n",
    "        for z in range(0, lens01):\n",
    "            syn0[i][z] = syn0[i][z] + X[z] * delta\n",
    "    return syn0, errorreturn"
   ]
  },
  {
   "cell_type": "code",
   "execution_count": 5,
   "metadata": {},
   "outputs": [],
   "source": [
    "def predict(syn0, X, lens0, lens01):\n",
    "    ret = []\n",
    "    for i in range(0, lens0):\n",
    "        a = 0\n",
    "        for j in range(0, lens01):\n",
    "            a = a + syn0[i][j] * X[j]\n",
    "        b = 1 / (1 + 2.718281828459045235360287471352662497757 ** -a)\n",
    "        ret.append(b)\n",
    "    return ret"
   ]
  },
  {
   "cell_type": "code",
   "execution_count": 6,
   "metadata": {},
   "outputs": [],
   "source": [
    "def trainmass(X, y, syn, lens0, lens01, lr, iter):\n",
    "    for i in range(iter):\n",
    "        for j in range(lens01):\n",
    "            syn, er = train(X[j], y[j], syn, lens0, lens01, lr)\n",
    "    return syn, er\n",
    "\n",
    "def create(x, y):\n",
    "    syn0 = []\n",
    "    for z in range(0, x):\n",
    "        h = []\n",
    "        for i in range(0, y):\n",
    "            h.append(random.uniform(-0.1, 0.1))\n",
    "        syn0.append(h)\n",
    "    return syn0"
   ]
  },
  {
   "cell_type": "code",
   "execution_count": 7,
   "metadata": {},
   "outputs": [
    {
     "name": "stdout",
     "output_type": "stream",
     "text": [
      "[0.4835439912709079, 0.5593653075469635]\n",
      "[0.8848108739666853, 0.9682956213528969]\n"
     ]
    }
   ],
   "source": [
    "syn = create(2, 4)\n",
    "X = [[0.1, 0.2, 0.3, 0.4],[0.2, 0.3, 0.4, 0.5],[0.4, 0.5, 0.6, 0.7],[0.5,0.6,0.7,0.8]]\n",
    "y = [[0.5, 0.6],[0.6, 0.7],[0.8, 0.9],[0.9, 1]]\n",
    "g, r = trainmass(X, y, syn, 2, 4, 1, 60000)\n",
    "h = predict(syn, X[0], 2, 4)\n",
    "h2 = predict(syn, [0.5, 0.6, 0.7, 0.8], 2, 4)\n",
    "print(h)\n",
    "print(h2)"
   ]
  },
  {
   "cell_type": "code",
   "execution_count": 22,
   "metadata": {},
   "outputs": [],
   "source": [
    "class Persiptron:\n",
    "    def __init__(self, classCount, vectorSize):\n",
    "        self.classCount = classCount\n",
    "        self.vectorSize = vectorSize    "
   ]
  },
  {
   "cell_type": "code",
   "execution_count": 48,
   "metadata": {},
   "outputs": [],
   "source": [
    "def getRandomVector(classCount, vectorCount, vectorSize):\n",
    "    vectors = np.random.random((classCount, vectorCount, vectorSize))\n",
    "    i = j = 0\n",
    "    while i != classCount:\n",
    "        while j != vectorCount:\n",
    "            vectors[i][j] = 1\n",
    "            j += 1\n",
    "        i += 1\n",
    "    return vectors"
   ]
  },
  {
   "cell_type": "code",
   "execution_count": 49,
   "metadata": {},
   "outputs": [],
   "source": [
    "def train_start(x, y, z):\n",
    "    classCount = x\n",
    "    vectorSize = y\n",
    "    vectorCount = z\n",
    "    \n",
    "    persiptron = Persiptron(classCount, vectorSize+1)\n",
    "    vectors = getRandomVector(x, z, y)\n",
    "    print(vectors)"
   ]
  },
  {
   "cell_type": "code",
   "execution_count": 50,
   "metadata": {},
   "outputs": [
    {
     "name": "stdout",
     "output_type": "stream",
     "text": [
      "[[[1.         1.        ]\n",
      "  [1.         1.        ]]\n",
      "\n",
      " [[0.88218359 0.84120497]\n",
      "  [0.53508956 0.43628956]]]\n"
     ]
    }
   ],
   "source": [
    "train_start(2,2,2)"
   ]
  },
  {
   "cell_type": "code",
   "execution_count": null,
   "metadata": {},
   "outputs": [],
   "source": []
  }
 ],
 "metadata": {
  "kernelspec": {
   "display_name": "Python 3",
   "language": "python",
   "name": "python3"
  },
  "language_info": {
   "codemirror_mode": {
    "name": "ipython",
    "version": 3
   },
   "file_extension": ".py",
   "mimetype": "text/x-python",
   "name": "python",
   "nbconvert_exporter": "python",
   "pygments_lexer": "ipython3",
   "version": "3.7.3"
  }
 },
 "nbformat": 4,
 "nbformat_minor": 2
}
