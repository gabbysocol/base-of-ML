{
 "cells": [
  {
   "cell_type": "code",
   "execution_count": 1,
   "metadata": {},
   "outputs": [],
   "source": [
    "import warnings\n",
    "warnings.filterwarnings(action=\"ignore\", message=\"^internal gelsd\")"
   ]
  },
  {
   "cell_type": "code",
   "execution_count": 2,
   "metadata": {},
   "outputs": [],
   "source": [
    "import matplotlib.pyplot as plt\n",
    "import numpy as np\n",
    "import pandas as pn\n",
    "import random"
   ]
  },
  {
   "cell_type": "markdown",
   "metadata": {},
   "source": [
    "# Start"
   ]
  },
  {
   "cell_type": "code",
   "execution_count": 3,
   "metadata": {},
   "outputs": [],
   "source": [
    "def getRandomPoint(countPoint):\n",
    "    vectors = np.random.random((2, countPoint))\n",
    "    i = j = 0\n",
    "    return vectors"
   ]
  },
  {
   "cell_type": "code",
   "execution_count": 4,
   "metadata": {},
   "outputs": [],
   "source": [
    "points1 = getRandomPoint(2)\n",
    "points2 = getRandomPoint(2)\n",
    "\n",
    "points = [[-1, 0], [1, 1], [2, 0], [1, -2]]    #class 1 & 2"
   ]
  },
  {
   "cell_type": "code",
   "execution_count": 5,
   "metadata": {},
   "outputs": [],
   "source": [
    "class func:\n",
    "    # freeKoef + 4*x1*x2 + 4*y1*y2 + 16*x1*x2*y1*y2\n",
    "    def __init__(self):\n",
    "        self.K0 = 0\n",
    "        self.freeKoef = 1\n",
    "        self.x1 = 0\n",
    "        self.x2 = 0\n",
    "        self.y1 = 0\n",
    "        self.y2 = 0\n",
    "        self.x = 0\n",
    "        self.y = 0\n",
    "        self.xy = 0\n",
    "        self.koefX =0\n",
    "        self.koefY =0\n",
    "        self.koefXY =0\n",
    "        \n",
    "    def get_point_plus(self, points, i):        \n",
    "        self.freeKoef = self.freeKoef + self.K0    # -3\n",
    "        self.x1 = points[i][0]\n",
    "        self.x2 = points[i+1][0]\n",
    "        self.y1 = points[i][1]\n",
    "        self.y2 = points[i+1][1]\n",
    "        self.koefX = 4*f.x\n",
    "        self.koefY = 4*f.y\n",
    "        self.koefXY = 16*f.xy\n",
    "        \n",
    "    def get_part(self):\n",
    "#         self.K0 = 0\n",
    "#         self.freeKoef = \n",
    "        self.x = self.x1 * self.x2\n",
    "        self.y = self.y1 * self.y2\n",
    "        self.xy = self.x1 * self.x2 * self.y1 * self.y2\n",
    "\n",
    "        \n",
    "    def get_point_min(self, points, i):\n",
    "        if i != 0:\n",
    "            self.freeKoef = self.freeKoef + self.K0    # -3\n",
    "        self.x1 = self.x1 - points[i][0]\n",
    "        self.x2 = self.x2 - points[i+1][0]\n",
    "        self.y1 = self.y1 - points[i][1]\n",
    "        self.y2 = self.y2 - points[i+1][1]\n",
    "        \n",
    "    def get_correct_member(self, Kxi):    \n",
    "        if Kxi > 0:\n",
    "            self.K0 = -1\n",
    "        elif Kxi <= 0:\n",
    "            self.K0 = 1\n",
    "        elif Kxi == 0:\n",
    "            self.K0 = 0\n",
    "        else:\n",
    "            print('Error')"
   ]
  },
  {
   "cell_type": "code",
   "execution_count": null,
   "metadata": {},
   "outputs": [],
   "source": []
  },
  {
   "cell_type": "code",
   "execution_count": 6,
   "metadata": {},
   "outputs": [],
   "source": [
    "def get_part_func(points):\n",
    "    return f.freeKoef + f.koefX + f.koefY + f.koefXY"
   ]
  },
  {
   "cell_type": "code",
   "execution_count": 7,
   "metadata": {},
   "outputs": [],
   "source": [
    "def get_separate_func(points):\n",
    "    # f.freeKoef + 4*f.x1*f.x2 + 4*f.y1*f.y2 + 16*f.x1*f.y1*f.x2*f.y2\n",
    "    i = 0\n",
    "    while i < 1:\n",
    "        f.get_point_plus(points, i)\n",
    "        f.get_part()\n",
    "        Kxi = get_part_func(points)\n",
    "        f.K0 = Kxi\n",
    "        # f.get_correct_member(Kxi)\n",
    "        i += 1\n",
    "    print(Kxi, f.freeKoef, f.K0)"
   ]
  },
  {
   "cell_type": "code",
   "execution_count": 8,
   "metadata": {},
   "outputs": [
    {
     "name": "stdout",
     "output_type": "stream",
     "text": [
      "1 1 1\n"
     ]
    }
   ],
   "source": [
    "f = func()\n",
    "get_separate_func(points)"
   ]
  },
  {
   "cell_type": "code",
   "execution_count": null,
   "metadata": {},
   "outputs": [],
   "source": []
  },
  {
   "cell_type": "code",
   "execution_count": null,
   "metadata": {},
   "outputs": [],
   "source": []
  },
  {
   "cell_type": "code",
   "execution_count": 9,
   "metadata": {},
   "outputs": [
    {
     "data": {
      "image/png": "[encoded data removed]",
      "text/plain": [
       "<Figure size 720x720 with 1 Axes>"
      ]
     },
     "metadata": {
      "needs_background": "light"
     },
     "output_type": "display_data"
    }
   ],
   "source": [
    "fig, ax = plt.subplots()\n",
    "\n",
    "ax.scatter(points1[0], points1[1], c = 'deeppink', s = 200)    #  color\n",
    "ax.scatter(points2[0], points2[1], c = 'blue', s = 200)\n",
    "ax.set_facecolor('black')     #  color of areas Axes\n",
    "ax.set_title('MIAPR')     #  header for Axes\n",
    "\n",
    "fig.set_figwidth(10)     #  width\n",
    "fig.set_figheight(10)    #  hieght\n",
    "\n",
    "plt.show()"
   ]
  },
  {
   "cell_type": "code",
   "execution_count": null,
   "metadata": {},
   "outputs": [],
   "source": []
  }
 ],
 "metadata": {
  "kernelspec": {
   "display_name": "Python 3",
   "language": "python",
   "name": "python3"
  },
  "language_info": {
   "codemirror_mode": {
    "name": "ipython",
    "version": 3
   },
   "file_extension": ".py",
   "mimetype": "text/x-python",
   "name": "python",
   "nbconvert_exporter": "python",
   "pygments_lexer": "ipython3",
   "version": "3.7.3"
  }
 },
 "nbformat": 4,
 "nbformat_minor": 2
}
